{
 "cells": [
  {
   "cell_type": "code",
   "execution_count": 1,
   "metadata": {
    "execution": {
     "iopub.execute_input": "2025-07-15T18:47:07.998889Z",
     "iopub.status.busy": "2025-07-15T18:47:07.998303Z",
     "iopub.status.idle": "2025-07-15T18:47:13.643619Z",
     "shell.execute_reply": "2025-07-15T18:47:13.642741Z",
     "shell.execute_reply.started": "2025-07-15T18:47:07.998863Z"
    },
    "trusted": true
   },
   "outputs": [
    {
     "name": "stdout",
     "output_type": "stream",
     "text": [
      "Collecting rasterio\n",
      "  Downloading rasterio-1.4.3-cp311-cp311-manylinux_2_17_x86_64.manylinux2014_x86_64.whl.metadata (9.1 kB)\n",
      "Collecting affine (from rasterio)\n",
      "  Downloading affine-2.4.0-py3-none-any.whl.metadata (4.0 kB)\n",
      "Requirement already satisfied: attrs in /usr/local/lib/python3.11/dist-packages (from rasterio) (25.3.0)\n",
      "Requirement already satisfied: certifi in /usr/local/lib/python3.11/dist-packages (from rasterio) (2025.6.15)\n",
      "Requirement already satisfied: click>=4.0 in /usr/local/lib/python3.11/dist-packages (from rasterio) (8.2.1)\n",
      "Requirement already satisfied: cligj>=0.5 in /usr/local/lib/python3.11/dist-packages (from rasterio) (0.7.2)\n",
      "Requirement already satisfied: numpy>=1.24 in /usr/local/lib/python3.11/dist-packages (from rasterio) (1.26.4)\n",
      "Requirement already satisfied: click-plugins in /usr/local/lib/python3.11/dist-packages (from rasterio) (1.1.1.2)\n",
      "Requirement already satisfied: pyparsing in /usr/local/lib/python3.11/dist-packages (from rasterio) (3.0.9)\n",
      "Requirement already satisfied: mkl_fft in /usr/local/lib/python3.11/dist-packages (from numpy>=1.24->rasterio) (1.3.8)\n",
      "Requirement already satisfied: mkl_random in /usr/local/lib/python3.11/dist-packages (from numpy>=1.24->rasterio) (1.2.4)\n",
      "Requirement already satisfied: mkl_umath in /usr/local/lib/python3.11/dist-packages (from numpy>=1.24->rasterio) (0.1.1)\n",
      "Requirement already satisfied: mkl in /usr/local/lib/python3.11/dist-packages (from numpy>=1.24->rasterio) (2025.2.0)\n",
      "Requirement already satisfied: tbb4py in /usr/local/lib/python3.11/dist-packages (from numpy>=1.24->rasterio) (2022.2.0)\n",
      "Requirement already satisfied: mkl-service in /usr/local/lib/python3.11/dist-packages (from numpy>=1.24->rasterio) (2.4.1)\n",
      "Requirement already satisfied: intel-openmp<2026,>=2024 in /usr/local/lib/python3.11/dist-packages (from mkl->numpy>=1.24->rasterio) (2024.2.0)\n",
      "Requirement already satisfied: tbb==2022.* in /usr/local/lib/python3.11/dist-packages (from mkl->numpy>=1.24->rasterio) (2022.2.0)\n",
      "Requirement already satisfied: tcmlib==1.* in /usr/local/lib/python3.11/dist-packages (from tbb==2022.*->mkl->numpy>=1.24->rasterio) (1.4.0)\n",
      "Requirement already satisfied: intel-cmplr-lib-rt in /usr/local/lib/python3.11/dist-packages (from mkl_umath->numpy>=1.24->rasterio) (2024.2.0)\n",
      "Requirement already satisfied: intel-cmplr-lib-ur==2024.2.0 in /usr/local/lib/python3.11/dist-packages (from intel-openmp<2026,>=2024->mkl->numpy>=1.24->rasterio) (2024.2.0)\n",
      "Downloading rasterio-1.4.3-cp311-cp311-manylinux_2_17_x86_64.manylinux2014_x86_64.whl (22.2 MB)\n",
      "\u001b[2K   \u001b[90m━━━━━━━━━━━━━━━━━━━━━━━━━━━━━━━━━━━━━━━━\u001b[0m \u001b[32m22.2/22.2 MB\u001b[0m \u001b[31m58.9 MB/s\u001b[0m eta \u001b[36m0:00:00\u001b[0m:00:01\u001b[0m00:01\u001b[0m\n",
      "\u001b[?25hDownloading affine-2.4.0-py3-none-any.whl (15 kB)\n",
      "Installing collected packages: affine, rasterio\n",
      "Successfully installed affine-2.4.0 rasterio-1.4.3\n",
      "Note: you may need to restart the kernel to use updated packages.\n"
     ]
    }
   ],
   "source": [
    "pip install rasterio"
   ]
  },
  {
   "cell_type": "code",
   "execution_count": 20,
   "metadata": {
    "execution": {
     "iopub.execute_input": "2025-07-15T19:02:18.157240Z",
     "iopub.status.busy": "2025-07-15T19:02:18.156963Z",
     "iopub.status.idle": "2025-07-15T19:02:18.163028Z",
     "shell.execute_reply": "2025-07-15T19:02:18.162233Z",
     "shell.execute_reply.started": "2025-07-15T19:02:18.157220Z"
    },
    "trusted": true
   },
   "outputs": [],
   "source": [
    "# To suppress all warnings\n",
    "\n",
    "import os\n",
    "os.environ[\"TF_CPP_MIN_LOG_LEVEL\"] = \"3\"\n",
    "\n",
    "from absl import logging\n",
    "logging.set_verbosity(logging.ERROR)\n",
    "\n",
    "import tensorflow as tf\n",
    "\n",
    "import warnings\n",
    "warnings.filterwarnings(\"ignore\", category=UserWarning, module=\"keras\")\n",
    "\n",
    "import os\n",
    "os.environ[\"TF_CPP_MIN_LOG_LEVEL\"] = \"3\"  # hide TF logs\n",
    "\n",
    "import tensorflow as tf\n",
    "from tensorflow import keras\n",
    "\n",
    "import os\n",
    "os.environ['XLA_FLAGS'] = '--xla_cpu_enable_fast_math=false'\n",
    "os.environ['TF_CPP_MIN_LOG_LEVEL'] = '3'\n",
    "\n",
    "import warnings\n",
    "from rasterio.errors import NotGeoreferencedWarning\n",
    "\n",
    "warnings.filterwarnings(\"ignore\", category=NotGeoreferencedWarning)\n",
    "\n",
    "\n"
   ]
  },
  {
   "cell_type": "code",
   "execution_count": 2,
   "metadata": {
    "execution": {
     "iopub.execute_input": "2025-07-15T18:47:13.645590Z",
     "iopub.status.busy": "2025-07-15T18:47:13.645257Z",
     "iopub.status.idle": "2025-07-15T18:47:14.658674Z",
     "shell.execute_reply": "2025-07-15T18:47:14.657930Z",
     "shell.execute_reply.started": "2025-07-15T18:47:13.645561Z"
    },
    "trusted": true
   },
   "outputs": [],
   "source": [
    "import os\n",
    "import numpy as np\n",
    "import rasterio\n",
    "from skimage.transform import resize\n",
    "import matplotlib.pyplot as plt\n",
    "\n",
    "DATA_DIR = \"/kaggle/input/satellite-images\"\n",
    "TRAIN_DIR = (\"/kaggle/input/dataset11/train\")\n",
    "TEST_DIR = (\"/kaggle/input/dataset11/test\")"
   ]
  },
  {
   "cell_type": "code",
   "execution_count": 3,
   "metadata": {
    "execution": {
     "iopub.execute_input": "2025-07-15T18:47:14.659662Z",
     "iopub.status.busy": "2025-07-15T18:47:14.659340Z",
     "iopub.status.idle": "2025-07-15T18:47:14.698493Z",
     "shell.execute_reply": "2025-07-15T18:47:14.697836Z",
     "shell.execute_reply.started": "2025-07-15T18:47:14.659645Z"
    },
    "trusted": true
   },
   "outputs": [
    {
     "name": "stdout",
     "output_type": "stream",
     "text": [
      "Train files: ['2_image.tif', '42_image.tif', '18_image.tif', '35_label.tif', '64_label.tif', '62_label.tif', '8_image.tif', '32_image.tif', '27_image.tif', '22_image.tif', '2_label.tif', '68_label.tif', '28_image.tif', '67_image.tif', '47_label.tif', '26_label.tif', '1_label.tif', '8_label.tif', '63_label.tif', '17_label.tif', '45_label.tif', '52_label.tif', '44_image.tif', '33_image.tif', '20_label.tif', '46_label.tif', '25_label.tif', '49_label.tif', '43_image.tif', '26_image.tif', '22_label.tif', '24_label.tif', '58_image.tif', '34_image.tif', '48_label.tif', '53_image.tif', '28_label.tif', '30_label.tif', '34_label.tif', '65_label.tif', '59_image.tif', '45_image.tif', '31_image.tif', '67_label.tif', '20_image.tif', '64_image.tif', '17_image.tif', '42_label.tif', '0_image.tif', '62_image.tif', '52_image.tif', '0_label.tif', '12_label.tif', '29_label.tif', '33_label.tif', '69_image.tif', '14_label.tif', '39_image.tif', '5_image.tif', '9_image.tif', '7_label.tif', '57_label.tif', '21_image.tif', '38_image.tif', '15_label.tif', '51_label.tif', '40_label.tif', '41_image.tif', '29_image.tif', '19_image.tif', '24_image.tif', '13_image.tif', '36_label.tif', '14_image.tif', '21_label.tif', '50_image.tif', '49_image.tif', '55_label.tif', '60_image.tif', '23_image.tif', '13_label.tif', '35_image.tif', '57_image.tif', '10_label.tif', '61_label.tif', '25_image.tif', '7_image.tif', '43_label.tif', '58_label.tif', '30_image.tif', '50_label.tif', '15_image.tif', '1_image.tif', '69_label.tif', '23_label.tif', '16_label.tif', '36_image.tif', '5_label.tif', '46_image.tif', '3_image.tif', '19_label.tif', '63_image.tif', '16_image.tif', '60_label.tif', '39_label.tif', '9_label.tif', '3_label.tif', '56_label.tif', '55_image.tif', '48_image.tif', '44_label.tif', '4_image.tif', '65_image.tif', '47_image.tif', '56_image.tif', '4_label.tif', '32_label.tif', '68_image.tif', '11_image.tif', '51_image.tif', '18_label.tif', '37_image.tif', '66_image.tif', '40_image.tif', '27_label.tif', '59_label.tif', '38_label.tif', '53_label.tif', '66_label.tif', '31_label.tif', '10_image.tif', '61_image.tif', '54_label.tif', '37_label.tif', '11_label.tif', '6_label.tif', '54_image.tif', '6_image.tif', '41_label.tif', '12_image.tif']\n",
      "Test files: ['2_image.tif', '18_image.tif', '8_image.tif', '27_image.tif', '22_image.tif', '2_label.tif', '28_image.tif', '26_label.tif', '1_label.tif', '8_label.tif', '17_label.tif', '20_label.tif', '25_label.tif', '26_image.tif', '22_label.tif', '24_label.tif', '28_label.tif', '20_image.tif', '17_image.tif', '0_image.tif', '0_label.tif', '12_label.tif', '29_label.tif', '14_label.tif', '5_image.tif', '9_image.tif', '7_label.tif', '21_image.tif', '15_label.tif', '29_image.tif', '19_image.tif', '24_image.tif', '13_image.tif', '14_image.tif', '21_label.tif', '23_image.tif', '13_label.tif', '10_label.tif', '25_image.tif', '7_image.tif', '15_image.tif', '1_image.tif', '23_label.tif', '16_label.tif', '5_label.tif', '3_image.tif', '19_label.tif', '16_image.tif', '9_label.tif', '3_label.tif', '4_image.tif', '4_label.tif', '11_image.tif', '18_label.tif', '27_label.tif', '10_image.tif', '11_label.tif', '6_label.tif', '6_image.tif', '12_image.tif']\n"
     ]
    }
   ],
   "source": [
    "import os\n",
    "\n",
    "print(\"Train files:\", os.listdir(TRAIN_DIR))\n",
    "print(\"Test files:\", os.listdir(TEST_DIR))\n"
   ]
  },
  {
   "cell_type": "code",
   "execution_count": 21,
   "metadata": {
    "execution": {
     "iopub.execute_input": "2025-07-15T19:02:22.318547Z",
     "iopub.status.busy": "2025-07-15T19:02:22.318251Z",
     "iopub.status.idle": "2025-07-15T19:02:22.334210Z",
     "shell.execute_reply": "2025-07-15T19:02:22.333417Z",
     "shell.execute_reply.started": "2025-07-15T19:02:22.318522Z"
    },
    "trusted": true
   },
   "outputs": [
    {
     "name": "stdout",
     "output_type": "stream",
     "text": [
      "Image Metadata:\n",
      "{'driver': 'GTiff', 'dtype': 'uint8', 'nodata': None, 'width': 128, 'height': 128, 'count': 3, 'crs': None, 'transform': Affine(1.0, 0.0, 0.0,\n",
      "       0.0, 1.0, 0.0)}\n",
      "Number of Bands: 3\n",
      "Data Type: ('uint8', 'uint8', 'uint8')\n",
      "Shape: 128 x 128\n",
      "CRS: None\n",
      "\n",
      "Mask Metadata:\n",
      "{'driver': 'GTiff', 'dtype': 'float32', 'nodata': None, 'width': 128, 'height': 128, 'count': 1, 'crs': None, 'transform': Affine(1.0, 0.0, 0.0,\n",
      "       0.0, 1.0, 0.0)}\n",
      "Number of Bands: 1\n",
      "Data Type: ('float32',)\n",
      "Shape: 128 x 128\n",
      "CRS: None\n"
     ]
    }
   ],
   "source": [
    "# Path to an image\n",
    "image_path = os.path.join(TRAIN_DIR, \"0_image.tif\")\n",
    "\n",
    "# Open the image and inspect its metadata\n",
    "with rasterio.open(image_path) as src:\n",
    "    print(\"Image Metadata:\")\n",
    "    print(src.meta)\n",
    "    print(f\"Number of Bands: {src.count}\")\n",
    "    print(f\"Data Type: {src.dtypes}\")\n",
    "    print(f\"Shape: {src.height} x {src.width}\")\n",
    "    print(f\"CRS: {src.crs}\")\n",
    "\n",
    "\n",
    "mask_path = os.path.join(TRAIN_DIR, \"0_label.tif\")\n",
    "with rasterio.open(mask_path) as src:\n",
    "    print(\"\\nMask Metadata:\")\n",
    "    print(src.meta)\n",
    "    print(f\"Number of Bands: {src.count}\")\n",
    "    print(f\"Data Type: {src.dtypes}\")\n",
    "    print(f\"Shape: {src.height} x {src.width}\")\n",
    "    print(f\"CRS: {src.crs}\")"
   ]
  },
  {
   "cell_type": "code",
   "execution_count": null,
   "metadata": {
    "execution": {
     "iopub.execute_input": "2025-07-15T18:47:59.646899Z",
     "iopub.status.busy": "2025-07-15T18:47:59.646164Z",
     "iopub.status.idle": "2025-07-15T18:47:59.656960Z",
     "shell.execute_reply": "2025-07-15T18:47:59.656120Z",
     "shell.execute_reply.started": "2025-07-15T18:47:59.646871Z"
    },
    "trusted": true
   },
   "outputs": [],
   "source": [
    "def load_data(image_path, mask_path):\n",
    "    # Load image\n",
    "    with rasterio.open(image_path) as src:\n",
    "        image = src.read()  # Read all bands\n",
    "        image = np.transpose(image, (1, 2, 0))  # Reorder dimensions to (height, width, channels)\n",
    "\n",
    "\n",
    "        if image.shape[2] == 4:  \n",
    "            image = image[..., :3]\n",
    "\n",
    "    # Load mask\n",
    "    with rasterio.open(mask_path) as src:\n",
    "        mask = src.read(1)  # Read single band (binary mask)\n",
    "\n",
    "    return image, mask"
   ]
  },
  {
   "cell_type": "code",
   "execution_count": 6,
   "metadata": {
    "execution": {
     "iopub.execute_input": "2025-07-15T18:48:02.219351Z",
     "iopub.status.busy": "2025-07-15T18:48:02.218705Z",
     "iopub.status.idle": "2025-07-15T18:48:02.224031Z",
     "shell.execute_reply": "2025-07-15T18:48:02.223340Z",
     "shell.execute_reply.started": "2025-07-15T18:48:02.219325Z"
    },
    "trusted": true
   },
   "outputs": [
    {
     "name": "stdout",
     "output_type": "stream",
     "text": [
      "Train Images: 70\n",
      "Train Masks: 70\n",
      "Test Images: 30\n",
      "Test Masks: 30\n"
     ]
    }
   ],
   "source": [
    "print(f\"Train Images: {len(train_image_paths)}\")\n",
    "print(f\"Train Masks: {len(train_mask_paths)}\")\n",
    "print(f\"Test Images: {len(test_image_paths)}\")\n",
    "print(f\"Test Masks: {len(test_mask_paths)}\")"
   ]
  }
 ],
 "metadata": {
  "kaggle": {
   "accelerator": "nvidiaTeslaT4",
   "dataSources": [
    {
     "datasetId": 7874652,
     "sourceId": 12480223,
     "sourceType": "datasetVersion"
    }
   ],
   "dockerImageVersionId": 31090,
   "isGpuEnabled": true,
   "isInternetEnabled": true,
   "language": "python",
   "sourceType": "notebook"
  },
  "kernelspec": {
   "display_name": "Python 3",
   "language": "python",
   "name": "python3"
  },
  "language_info": {
   "codemirror_mode": {
    "name": "ipython",
    "version": 3
   },
   "file_extension": ".py",
   "mimetype": "text/x-python",
   "name": "python",
   "nbconvert_exporter": "python",
   "pygments_lexer": "ipython3",
   "version": "3.11.13"
  }
 },
 "nbformat": 4,
 "nbformat_minor": 4
}

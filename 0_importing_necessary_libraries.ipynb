{
 "cells": [
  {
   "cell_type": "code",
   "execution_count": null,
   "id": "1f10f6bd",
   "metadata": {},
   "outputs": [],
   "source": [
    "# Core Python Libraries\n",
    "import os\n",
    "import warnings\n",
    "\n",
    "# Numerical and Array Operations\n",
    "import numpy as np\n",
    "\n",
    "# Image and Data Processing\n",
    "import cv2\n",
    "from skimage.transform import resize\n",
    "import rasterio\n",
    "from rasterio.transform import from_bounds\n",
    "from rasterio.features import shapes\n",
    "\n",
    "# Visualization\n",
    "import matplotlib.pyplot as plt\n",
    "import seaborn as sns\n",
    "\n",
    "# Deep Learning (TensorFlow / Keras)\n",
    "import tensorflow as tf\n",
    "from tensorflow.keras.models import Model, load_model\n",
    "from tensorflow.keras.layers import Input, Conv2D, MaxPooling2D, concatenate, Conv2DTranspose\n",
    "from tensorflow.keras.optimizers import Adam\n",
    "\n",
    "# Machine Learning Metrics\n",
    "from sklearn.metrics import (\n",
    "    accuracy_score, precision_score, recall_score,\n",
    "    jaccard_score, confusion_matrix\n",
    ")\n",
    "\n",
    "# Geospatial Data Handling\n",
    "import geopandas as gpd\n",
    "from shapely.geometry import shape\n"
   ]
  }
 ],
 "metadata": {
  "language_info": {
   "name": "python"
  }
 },
 "nbformat": 4,
 "nbformat_minor": 5
}
